{
 "cells": [
  {
   "cell_type": "markdown",
   "metadata": {},
   "source": [
    "## Importing packages and csvs"
   ]
  },
  {
   "cell_type": "code",
   "execution_count": 2,
   "metadata": {},
   "outputs": [],
   "source": [
    "# importing packages\n",
    "import pandas as pd\n",
    "import pymysql\n",
    "pymysql.install_as_MySQLdb()\n",
    "from sqlalchemy import create_engine\n",
    "from ET_mysql_key import ET_key\n",
    "from IPython.core.interactiveshell import InteractiveShell\n",
    "InteractiveShell.ast_node_interactivity = \"all\""
   ]
  },
  {
   "cell_type": "code",
   "execution_count": 3,
   "metadata": {},
   "outputs": [],
   "source": [
    "# setting up csv variables\n",
    "WSJ_salaries_college_file = \"../Data_Files/college_salaries/salaries-by-college-type.csv\" # has median salary data \n",
    "CC_institution_details_file = \"../Data_Files/college_completion/cc_institution_details.csv\" # has all data incl. school name\n",
    "CC_institution_grads_file = \"../Data_Files/college_completion/cc_institution_grads.csv\" # has gender data\n",
    "# WSJ_salaries_region_file = \"../Data_Files/college_salaries/salaries-by-region.csv\"\n",
    "# CC_state_sector_details_file = \"../Data_Files/college_completion/cc_state_sector_details.csv\"\n",
    "# CC_state_sector_grads_file = \"../Data_Files/college_completion/cc_state_sector_grads.csv\"\n",
    "\n",
    "# testing \n",
    "# PEPS_closed_schools_file = \"/Data_Files/closedschoolsearch.csv\""
   ]
  },
  {
   "cell_type": "markdown",
   "metadata": {},
   "source": [
    "## Extraction"
   ]
  },
  {
   "cell_type": "code",
   "execution_count": 4,
   "metadata": {},
   "outputs": [],
   "source": [
    "# extracting csvs into dataframes\n",
    "WSJ_college_raw_df = pd.read_csv(WSJ_salaries_college_file)\n",
    "# WSJ_college_raw_df.head()"
   ]
  },
  {
   "cell_type": "code",
   "execution_count": 5,
   "metadata": {},
   "outputs": [],
   "source": [
    "CC_institution_details_raw_df = pd.read_csv(CC_institution_details_file)\n",
    "# CC_institution_details_raw_df.head(2)\n",
    "# CC_institution_details_raw_df.shape"
   ]
  },
  {
   "cell_type": "code",
   "execution_count": 6,
   "metadata": {
    "scrolled": true
   },
   "outputs": [],
   "source": [
    "CC_institution_grads_raw_df = pd.read_csv(CC_institution_grads_file)\n",
    "# CC_institution_grads_raw_df.head()"
   ]
  },
  {
   "cell_type": "markdown",
   "metadata": {},
   "source": [
    "## Cleaning"
   ]
  },
  {
   "cell_type": "code",
   "execution_count": 7,
   "metadata": {},
   "outputs": [
    {
     "data": {
      "text/html": [
       "<div>\n",
       "<style scoped>\n",
       "    .dataframe tbody tr th:only-of-type {\n",
       "        vertical-align: middle;\n",
       "    }\n",
       "\n",
       "    .dataframe tbody tr th {\n",
       "        vertical-align: top;\n",
       "    }\n",
       "\n",
       "    .dataframe thead th {\n",
       "        text-align: right;\n",
       "    }\n",
       "</style>\n",
       "<table border=\"1\" class=\"dataframe\">\n",
       "  <thead>\n",
       "    <tr style=\"text-align: right;\">\n",
       "      <th></th>\n",
       "      <th>school_name</th>\n",
       "      <th>school_type</th>\n",
       "      <th>median_salary_start</th>\n",
       "      <th>median_salary_mid</th>\n",
       "    </tr>\n",
       "  </thead>\n",
       "  <tbody>\n",
       "    <tr>\n",
       "      <th>0</th>\n",
       "      <td>Amherst College</td>\n",
       "      <td>Liberal Arts</td>\n",
       "      <td>$54,500.00</td>\n",
       "      <td>$107,000.00</td>\n",
       "    </tr>\n",
       "    <tr>\n",
       "      <th>1</th>\n",
       "      <td>Appalachian State University</td>\n",
       "      <td>State</td>\n",
       "      <td>$40,400.00</td>\n",
       "      <td>$69,100.00</td>\n",
       "    </tr>\n",
       "    <tr>\n",
       "      <th>2</th>\n",
       "      <td>Arizona State University</td>\n",
       "      <td>Party</td>\n",
       "      <td>$47,400.00</td>\n",
       "      <td>$84,100.00</td>\n",
       "    </tr>\n",
       "    <tr>\n",
       "      <th>3</th>\n",
       "      <td>Arizona State University</td>\n",
       "      <td>State</td>\n",
       "      <td>$47,400.00</td>\n",
       "      <td>$84,100.00</td>\n",
       "    </tr>\n",
       "    <tr>\n",
       "      <th>4</th>\n",
       "      <td>Arkansas State University</td>\n",
       "      <td>State</td>\n",
       "      <td>$38,700.00</td>\n",
       "      <td>$63,300.00</td>\n",
       "    </tr>\n",
       "  </tbody>\n",
       "</table>\n",
       "</div>"
      ],
      "text/plain": [
       "                    school_name   school_type median_salary_start  \\\n",
       "0               Amherst College  Liberal Arts         $54,500.00    \n",
       "1  Appalachian State University         State         $40,400.00    \n",
       "2      Arizona State University         Party         $47,400.00    \n",
       "3      Arizona State University         State         $47,400.00    \n",
       "4     Arkansas State University         State         $38,700.00    \n",
       "\n",
       "  median_salary_mid  \n",
       "0      $107,000.00   \n",
       "1       $69,100.00   \n",
       "2       $84,100.00   \n",
       "3       $84,100.00   \n",
       "4       $63,300.00   "
      ]
     },
     "execution_count": 7,
     "metadata": {},
     "output_type": "execute_result"
    }
   ],
   "source": [
    "# remove columns as needed and set as the real df\n",
    "WSJ_college_cols = [\"School Name\", \"School Type\", \"Starting Median Salary\", \"Mid-Career Median Salary\"]\n",
    "WSJ_college_df = WSJ_college_raw_df[WSJ_college_cols].copy()\n",
    "WSJ_college_df = WSJ_college_df.rename(columns={\"School Name\": \"school_name\", \"School Type\": \"school_type\", \n",
    "                                                \"Starting Median Salary\": \"median_salary_start\", \n",
    "                                                \"Mid-Career Median Salary\": \"median_salary_mid\"})\n",
    "WSJ_college_Df = WSJ_college_df.dropna(how=\"any\")\n",
    "WSJ_college_Df.head()"
   ]
  },
  {
   "cell_type": "code",
   "execution_count": 8,
   "metadata": {},
   "outputs": [
    {
     "data": {
      "text/html": [
       "<div>\n",
       "<style scoped>\n",
       "    .dataframe tbody tr th:only-of-type {\n",
       "        vertical-align: middle;\n",
       "    }\n",
       "\n",
       "    .dataframe tbody tr th {\n",
       "        vertical-align: top;\n",
       "    }\n",
       "\n",
       "    .dataframe thead th {\n",
       "        text-align: right;\n",
       "    }\n",
       "</style>\n",
       "<table border=\"1\" class=\"dataframe\">\n",
       "  <thead>\n",
       "    <tr style=\"text-align: right;\">\n",
       "      <th></th>\n",
       "      <th>school_id</th>\n",
       "      <th>school_name</th>\n",
       "      <th>state</th>\n",
       "      <th>level</th>\n",
       "      <th>control</th>\n",
       "      <th>basic</th>\n",
       "      <th>student_count</th>\n",
       "      <th>aid_value</th>\n",
       "      <th>grad_100_value</th>\n",
       "      <th>grad_100_percentile</th>\n",
       "      <th>grad_150_value</th>\n",
       "      <th>grad_150_percentile</th>\n",
       "    </tr>\n",
       "  </thead>\n",
       "  <tbody>\n",
       "    <tr>\n",
       "      <th>0</th>\n",
       "      <td>222178</td>\n",
       "      <td>Abilene Christian University</td>\n",
       "      <td>Texas</td>\n",
       "      <td>4-year</td>\n",
       "      <td>Private not-for-profit</td>\n",
       "      <td>Masters Colleges and Universities--larger prog...</td>\n",
       "      <td>3806</td>\n",
       "      <td>9405.0</td>\n",
       "      <td>37.0</td>\n",
       "      <td>44.0</td>\n",
       "      <td>56.9</td>\n",
       "      <td>53.0</td>\n",
       "    </tr>\n",
       "    <tr>\n",
       "      <th>2</th>\n",
       "      <td>172866</td>\n",
       "      <td>Academy College</td>\n",
       "      <td>Minnesota</td>\n",
       "      <td>4-year</td>\n",
       "      <td>Private for-profit</td>\n",
       "      <td>Baccalaureate and Associates Colleges</td>\n",
       "      <td>236</td>\n",
       "      <td>4564.0</td>\n",
       "      <td>100.0</td>\n",
       "      <td>97.0</td>\n",
       "      <td>100.0</td>\n",
       "      <td>96.0</td>\n",
       "    </tr>\n",
       "    <tr>\n",
       "      <th>3</th>\n",
       "      <td>108232</td>\n",
       "      <td>Academy of Art University</td>\n",
       "      <td>California</td>\n",
       "      <td>4-year</td>\n",
       "      <td>Private for-profit</td>\n",
       "      <td>Schools of art- music- and design</td>\n",
       "      <td>12181</td>\n",
       "      <td>5342.0</td>\n",
       "      <td>5.6</td>\n",
       "      <td>36.0</td>\n",
       "      <td>29.2</td>\n",
       "      <td>58.0</td>\n",
       "    </tr>\n",
       "    <tr>\n",
       "      <th>4</th>\n",
       "      <td>441201</td>\n",
       "      <td>Academy of Court Reporting at Cincinnati</td>\n",
       "      <td>Ohio</td>\n",
       "      <td>2-year</td>\n",
       "      <td>Private for-profit</td>\n",
       "      <td>Associates--Private For-profit</td>\n",
       "      <td>149</td>\n",
       "      <td>4898.0</td>\n",
       "      <td>0.0</td>\n",
       "      <td>0.0</td>\n",
       "      <td>0.0</td>\n",
       "      <td>0.0</td>\n",
       "    </tr>\n",
       "    <tr>\n",
       "      <th>5</th>\n",
       "      <td>200633</td>\n",
       "      <td>Academy of Court Reporting at Cleveland</td>\n",
       "      <td>Ohio</td>\n",
       "      <td>2-year</td>\n",
       "      <td>Private for-profit</td>\n",
       "      <td>Associates--Private For-profit</td>\n",
       "      <td>399</td>\n",
       "      <td>5544.0</td>\n",
       "      <td>35.7</td>\n",
       "      <td>41.0</td>\n",
       "      <td>35.7</td>\n",
       "      <td>15.0</td>\n",
       "    </tr>\n",
       "  </tbody>\n",
       "</table>\n",
       "</div>"
      ],
      "text/plain": [
       "   school_id                               school_name       state   level  \\\n",
       "0     222178              Abilene Christian University       Texas  4-year   \n",
       "2     172866                           Academy College   Minnesota  4-year   \n",
       "3     108232                 Academy of Art University  California  4-year   \n",
       "4     441201  Academy of Court Reporting at Cincinnati        Ohio  2-year   \n",
       "5     200633   Academy of Court Reporting at Cleveland        Ohio  2-year   \n",
       "\n",
       "                  control                                              basic  \\\n",
       "0  Private not-for-profit  Masters Colleges and Universities--larger prog...   \n",
       "2      Private for-profit              Baccalaureate and Associates Colleges   \n",
       "3      Private for-profit                  Schools of art- music- and design   \n",
       "4      Private for-profit                     Associates--Private For-profit   \n",
       "5      Private for-profit                     Associates--Private For-profit   \n",
       "\n",
       "   student_count  aid_value  grad_100_value  grad_100_percentile  \\\n",
       "0           3806     9405.0            37.0                 44.0   \n",
       "2            236     4564.0           100.0                 97.0   \n",
       "3          12181     5342.0             5.6                 36.0   \n",
       "4            149     4898.0             0.0                  0.0   \n",
       "5            399     5544.0            35.7                 41.0   \n",
       "\n",
       "   grad_150_value  grad_150_percentile  \n",
       "0            56.9                 53.0  \n",
       "2           100.0                 96.0  \n",
       "3            29.2                 58.0  \n",
       "4             0.0                  0.0  \n",
       "5            35.7                 15.0  "
      ]
     },
     "execution_count": 8,
     "metadata": {},
     "output_type": "execute_result"
    }
   ],
   "source": [
    "# remove columns as needed and set as the real df\n",
    "CC_institution_details_cols = [\"unitid\", \"chronname\", \"state\", \"level\",\"control\",\"basic\",\n",
    "                               \"student_count\",\"aid_value\",\"grad_100_value\",\"grad_100_percentile\",\n",
    "                              \"grad_150_value\",\"grad_150_percentile\"]\n",
    "CC_institution_details_df = CC_institution_details_raw_df[CC_institution_details_cols].drop_duplicates().copy()\n",
    "CC_institution_details_df = CC_institution_details_df.rename(columns={\"unitid\": \"school_id\", \n",
    "                                                                      \"chronname\":\"school_name\"})\n",
    "CC_institution_details_Df = CC_institution_details_df.dropna(how=\"any\")\n",
    "CC_institution_details_Df.head()"
   ]
  },
  {
   "cell_type": "code",
   "execution_count": 9,
   "metadata": {},
   "outputs": [
    {
     "data": {
      "text/html": [
       "<div>\n",
       "<style scoped>\n",
       "    .dataframe tbody tr th:only-of-type {\n",
       "        vertical-align: middle;\n",
       "    }\n",
       "\n",
       "    .dataframe tbody tr th {\n",
       "        vertical-align: top;\n",
       "    }\n",
       "\n",
       "    .dataframe thead th {\n",
       "        text-align: right;\n",
       "    }\n",
       "</style>\n",
       "<table border=\"1\" class=\"dataframe\">\n",
       "  <thead>\n",
       "    <tr style=\"text-align: right;\">\n",
       "      <th></th>\n",
       "      <th>school_id</th>\n",
       "      <th>gender</th>\n",
       "      <th>race</th>\n",
       "      <th>cohort</th>\n",
       "    </tr>\n",
       "  </thead>\n",
       "  <tbody>\n",
       "    <tr>\n",
       "      <th>0</th>\n",
       "      <td>101462</td>\n",
       "      <td>B</td>\n",
       "      <td>X</td>\n",
       "      <td>2y all</td>\n",
       "    </tr>\n",
       "    <tr>\n",
       "      <th>1</th>\n",
       "      <td>101471</td>\n",
       "      <td>B</td>\n",
       "      <td>X</td>\n",
       "      <td>2y all</td>\n",
       "    </tr>\n",
       "    <tr>\n",
       "      <th>2</th>\n",
       "      <td>101499</td>\n",
       "      <td>B</td>\n",
       "      <td>X</td>\n",
       "      <td>2y all</td>\n",
       "    </tr>\n",
       "    <tr>\n",
       "      <th>3</th>\n",
       "      <td>101505</td>\n",
       "      <td>B</td>\n",
       "      <td>X</td>\n",
       "      <td>2y all</td>\n",
       "    </tr>\n",
       "    <tr>\n",
       "      <th>4</th>\n",
       "      <td>101514</td>\n",
       "      <td>B</td>\n",
       "      <td>X</td>\n",
       "      <td>2y all</td>\n",
       "    </tr>\n",
       "  </tbody>\n",
       "</table>\n",
       "</div>"
      ],
      "text/plain": [
       "   school_id gender race  cohort\n",
       "0     101462      B    X  2y all\n",
       "1     101471      B    X  2y all\n",
       "2     101499      B    X  2y all\n",
       "3     101505      B    X  2y all\n",
       "4     101514      B    X  2y all"
      ]
     },
     "execution_count": 9,
     "metadata": {},
     "output_type": "execute_result"
    }
   ],
   "source": [
    "# removing year column and dropping duplicates\n",
    "CC_institution_grads_cols = [\"unitid\", \"gender\", \"race\", \"cohort\"]\n",
    "CC_institution_grads_df = CC_institution_grads_raw_df[CC_institution_grads_cols].drop_duplicates().copy()\n",
    "CC_institution_grads_df = CC_institution_grads_df.rename(columns={\"unitid\":\"school_id\"})\n",
    "CC_institution_grads_Df = CC_institution_grads_df.dropna(how=\"any\")\n",
    "CC_institution_grads_Df.head()"
   ]
  },
  {
   "cell_type": "markdown",
   "metadata": {},
   "source": [
    "## Loading"
   ]
  },
  {
   "cell_type": "code",
   "execution_count": null,
   "metadata": {},
   "outputs": [],
   "source": [
    "# creating database connection \n",
    "# ET_key for ET's MySQL access only\n",
    "connection_string = \"root:{ET_key}@localhost/Colleges\"\n",
    "engine = create_engine(f'mysql://{connection_string}')"
   ]
  },
  {
   "cell_type": "code",
   "execution_count": null,
   "metadata": {},
   "outputs": [],
   "source": [
    "# confirming tables \n",
    "engine.table_names()"
   ]
  },
  {
   "cell_type": "code",
   "execution_count": null,
   "metadata": {},
   "outputs": [],
   "source": [
    "# loading dataframes into database\n",
    "WSJ_college_Df.to_sql(name='Salaries', con=engine, if_exists='replace', index=True)\n",
    "\n",
    "CC_institution_details_Df.to_sql(name='Grad_Rates', con=engine, if_exists='replace', index=True)\n",
    "\n",
    "CC_institution_grads_Df.to_sql(name='Demographics', con=engine, if_exists='replace', index=True)"
   ]
  },
  {
   "cell_type": "code",
   "execution_count": null,
   "metadata": {},
   "outputs": [],
   "source": [
    "# confirming that tables loaded successfully\n",
    "pd.read_sql(\"select * from Demographics limit 10\",con = engine)"
   ]
  },
  {
   "cell_type": "code",
   "execution_count": null,
   "metadata": {},
   "outputs": [],
   "source": []
  }
 ],
 "metadata": {
  "kernelspec": {
   "display_name": "Python 3",
   "language": "python",
   "name": "python3"
  },
  "language_info": {
   "codemirror_mode": {
    "name": "ipython",
    "version": 3
   },
   "file_extension": ".py",
   "mimetype": "text/x-python",
   "name": "python",
   "nbconvert_exporter": "python",
   "pygments_lexer": "ipython3",
   "version": "3.7.1"
  }
 },
 "nbformat": 4,
 "nbformat_minor": 2
}
